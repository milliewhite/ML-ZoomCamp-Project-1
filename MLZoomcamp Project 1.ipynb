{
 "cells": [
  {
   "cell_type": "raw",
   "id": "7a5992ca",
   "metadata": {},
   "source": [
    "Project"
   ]
  },
  {
   "cell_type": "raw",
   "id": "87be51fe",
   "metadata": {},
   "source": [
    "Link to data : https://archive.ics.uci.edu/ml/datasets/Divorce+Predictors+data+set\n",
    "\n",
    "This dataset is about participants who completed the personal information form and a divorce predictors scale.\n",
    "\n",
    "There are 170 participants and 54 predictor variables that are all real-valued. The last\n",
    "column of the CSV file is labeled Class and has the values 1 or 0.\n",
    "1 means divorce and 0 means no divorce.\n",
    "\n",
    "The questions of the personal information form which are the predictor variables of the dataset comprise of the following:\n",
    "\n",
    "1. If one of us apologizes when our discussion deteriorates, the discussion ends.\n",
    "2. I know we can ignore our differences, even if things get hard sometimes.\n",
    "3. When we need it, we can take our discussions with my spouse from the beginning and correct it.\n",
    "4. When I discuss with my spouse, to contact him will eventually work.\n",
    "5. The time I spent with my wife is special for us.\n",
    "6. We don't have time at home as partners.\n",
    "7. We are like two strangers who share the same environment at home rather than family.\n",
    "8. I enjoy our holidays with my wife.\n",
    "9. I enjoy traveling with my wife.\n",
    "10. Most of our goals are common to my spouse.\n",
    "11. I think that one day in the future, when I look back, I see that my spouse and I have been in harmony with each other.\n",
    "12. My spouse and I have similar values in terms of personal freedom.\n",
    "13. My spouse and I have similar sense of entertainment.\n",
    "14. Most of our goals for people (children, friends, etc.) are the same.\n",
    "15. Our dreams with my spouse are similar and harmonious.\n",
    "16. We're compatible with my spouse about what love should be.\n",
    "17. We share the same views about being happy in our life with my spouse\n",
    "18. My spouse and I have similar ideas about how marriage should be\n",
    "19. My spouse and I have similar ideas about how roles should be in marriage\n",
    "20. My spouse and I have similar values in trust.\n",
    "21. I know exactly what my wife likes.\n",
    "22. I know how my spouse wants to be taken care of when she/he sick.\n",
    "23. I know my spouse's favorite food.\n",
    "24. I can tell you what kind of stress my spouse is facing in her/his life.\n",
    "25. I have knowledge of my spouse's inner world.\n",
    "26. I know my spouse's basic anxieties.\n",
    "27. I know what my spouse's current sources of stress are.\n",
    "28. I know my spouse's hopes and wishes.\n",
    "29. I know my spouse very well.\n",
    "30. I know my spouse's friends and their social relationships.\n",
    "31. I feel aggressive when I argue with my spouse.\n",
    "32. When discussing with my spouse, I usually use expressions such as ‘you always’ or ‘you never’ .\n",
    "33. I can use negative statements about my spouse's personality during our discussions.\n",
    "34. I can use offensive expressions during our discussions.\n",
    "35. I can insult my spouse during our discussions.\n",
    "36. I can be humiliating when we discussions.\n",
    "37. My discussion with my spouse is not calm.\n",
    "38. I hate my spouse's way of open a subject.\n",
    "39. Our discussions often occur suddenly.\n",
    "40. We're just starting a discussion before I know what's going on.\n",
    "41. When I talk to my spouse about something, my calm suddenly breaks.\n",
    "42. When I argue with my spouse, ı only go out and I don't say a word.\n",
    "43. I mostly stay silent to calm the environment a little bit.\n",
    "44. Sometimes I think it's good for me to leave home for a while.\n",
    "45. I'd rather stay silent than discuss with my spouse.\n",
    "46. Even if I'm right in the discussion, I stay silent to hurt my spouse.\n",
    "47. When I discuss with my spouse, I stay silent because I am afraid of not being able to control my anger.\n",
    "48. I feel right in our discussions.\n",
    "49. I have nothing to do with what I've been accused of.\n",
    "50. I'm not actually the one who's guilty about what I'm accused of.\n",
    "51. I'm not the one who's wrong about problems at home.\n",
    "52. I wouldn't hesitate to tell my spouse about her/his inadequacy.\n",
    "53. When I discuss, I remind my spouse of her/his inadequacy.\n",
    "54. I'm not afraid to tell my spouse about her/his incompetence.\n"
   ]
  },
  {
   "cell_type": "markdown",
   "id": "b15ac315",
   "metadata": {},
   "source": [
    "# Our goal is to build a classifier using training data, such that given a test sample, we can classify \n",
    "(or essentially predict) whether its label is 0 (no divorce) or 1 (divorce)."
   ]
  },
  {
   "cell_type": "code",
   "execution_count": 1,
   "id": "f02c41bd",
   "metadata": {},
   "outputs": [],
   "source": [
    "import pandas as pd\n",
    "import numpy as np\n",
    "\n",
    "import matplotlib.pyplot as plt\n",
    "import seaborn as sns\n",
    "\n",
    "%matplotlib inline"
   ]
  },
  {
   "cell_type": "markdown",
   "id": "fc48f54a",
   "metadata": {},
   "source": [
    "load the data"
   ]
  },
  {
   "cell_type": "code",
   "execution_count": 2,
   "id": "14acb1cc",
   "metadata": {},
   "outputs": [
    {
     "data": {
      "text/html": [
       "<div>\n",
       "<style scoped>\n",
       "    .dataframe tbody tr th:only-of-type {\n",
       "        vertical-align: middle;\n",
       "    }\n",
       "\n",
       "    .dataframe tbody tr th {\n",
       "        vertical-align: top;\n",
       "    }\n",
       "\n",
       "    .dataframe thead th {\n",
       "        text-align: right;\n",
       "    }\n",
       "</style>\n",
       "<table border=\"1\" class=\"dataframe\">\n",
       "  <thead>\n",
       "    <tr style=\"text-align: right;\">\n",
       "      <th></th>\n",
       "      <th>Atr1</th>\n",
       "      <th>Atr2</th>\n",
       "      <th>Atr3</th>\n",
       "      <th>Atr4</th>\n",
       "      <th>Atr5</th>\n",
       "      <th>Atr6</th>\n",
       "      <th>Atr7</th>\n",
       "      <th>Atr8</th>\n",
       "      <th>Atr9</th>\n",
       "      <th>Atr10</th>\n",
       "      <th>...</th>\n",
       "      <th>Atr46</th>\n",
       "      <th>Atr47</th>\n",
       "      <th>Atr48</th>\n",
       "      <th>Atr49</th>\n",
       "      <th>Atr50</th>\n",
       "      <th>Atr51</th>\n",
       "      <th>Atr52</th>\n",
       "      <th>Atr53</th>\n",
       "      <th>Atr54</th>\n",
       "      <th>Class</th>\n",
       "    </tr>\n",
       "  </thead>\n",
       "  <tbody>\n",
       "    <tr>\n",
       "      <th>0</th>\n",
       "      <td>2</td>\n",
       "      <td>2</td>\n",
       "      <td>4</td>\n",
       "      <td>1</td>\n",
       "      <td>0</td>\n",
       "      <td>0</td>\n",
       "      <td>0</td>\n",
       "      <td>0</td>\n",
       "      <td>0</td>\n",
       "      <td>0</td>\n",
       "      <td>...</td>\n",
       "      <td>2</td>\n",
       "      <td>1</td>\n",
       "      <td>3</td>\n",
       "      <td>3</td>\n",
       "      <td>3</td>\n",
       "      <td>2</td>\n",
       "      <td>3</td>\n",
       "      <td>2</td>\n",
       "      <td>1</td>\n",
       "      <td>1</td>\n",
       "    </tr>\n",
       "    <tr>\n",
       "      <th>1</th>\n",
       "      <td>4</td>\n",
       "      <td>4</td>\n",
       "      <td>4</td>\n",
       "      <td>4</td>\n",
       "      <td>4</td>\n",
       "      <td>0</td>\n",
       "      <td>0</td>\n",
       "      <td>4</td>\n",
       "      <td>4</td>\n",
       "      <td>4</td>\n",
       "      <td>...</td>\n",
       "      <td>2</td>\n",
       "      <td>2</td>\n",
       "      <td>3</td>\n",
       "      <td>4</td>\n",
       "      <td>4</td>\n",
       "      <td>4</td>\n",
       "      <td>4</td>\n",
       "      <td>2</td>\n",
       "      <td>2</td>\n",
       "      <td>1</td>\n",
       "    </tr>\n",
       "    <tr>\n",
       "      <th>2</th>\n",
       "      <td>2</td>\n",
       "      <td>2</td>\n",
       "      <td>2</td>\n",
       "      <td>2</td>\n",
       "      <td>1</td>\n",
       "      <td>3</td>\n",
       "      <td>2</td>\n",
       "      <td>1</td>\n",
       "      <td>1</td>\n",
       "      <td>2</td>\n",
       "      <td>...</td>\n",
       "      <td>3</td>\n",
       "      <td>2</td>\n",
       "      <td>3</td>\n",
       "      <td>1</td>\n",
       "      <td>1</td>\n",
       "      <td>1</td>\n",
       "      <td>2</td>\n",
       "      <td>2</td>\n",
       "      <td>2</td>\n",
       "      <td>1</td>\n",
       "    </tr>\n",
       "    <tr>\n",
       "      <th>3</th>\n",
       "      <td>3</td>\n",
       "      <td>2</td>\n",
       "      <td>3</td>\n",
       "      <td>2</td>\n",
       "      <td>3</td>\n",
       "      <td>3</td>\n",
       "      <td>3</td>\n",
       "      <td>3</td>\n",
       "      <td>3</td>\n",
       "      <td>3</td>\n",
       "      <td>...</td>\n",
       "      <td>2</td>\n",
       "      <td>2</td>\n",
       "      <td>3</td>\n",
       "      <td>3</td>\n",
       "      <td>3</td>\n",
       "      <td>3</td>\n",
       "      <td>2</td>\n",
       "      <td>2</td>\n",
       "      <td>2</td>\n",
       "      <td>1</td>\n",
       "    </tr>\n",
       "    <tr>\n",
       "      <th>4</th>\n",
       "      <td>2</td>\n",
       "      <td>2</td>\n",
       "      <td>1</td>\n",
       "      <td>1</td>\n",
       "      <td>1</td>\n",
       "      <td>1</td>\n",
       "      <td>0</td>\n",
       "      <td>0</td>\n",
       "      <td>0</td>\n",
       "      <td>0</td>\n",
       "      <td>...</td>\n",
       "      <td>2</td>\n",
       "      <td>1</td>\n",
       "      <td>2</td>\n",
       "      <td>3</td>\n",
       "      <td>2</td>\n",
       "      <td>2</td>\n",
       "      <td>2</td>\n",
       "      <td>1</td>\n",
       "      <td>0</td>\n",
       "      <td>1</td>\n",
       "    </tr>\n",
       "    <tr>\n",
       "      <th>...</th>\n",
       "      <td>...</td>\n",
       "      <td>...</td>\n",
       "      <td>...</td>\n",
       "      <td>...</td>\n",
       "      <td>...</td>\n",
       "      <td>...</td>\n",
       "      <td>...</td>\n",
       "      <td>...</td>\n",
       "      <td>...</td>\n",
       "      <td>...</td>\n",
       "      <td>...</td>\n",
       "      <td>...</td>\n",
       "      <td>...</td>\n",
       "      <td>...</td>\n",
       "      <td>...</td>\n",
       "      <td>...</td>\n",
       "      <td>...</td>\n",
       "      <td>...</td>\n",
       "      <td>...</td>\n",
       "      <td>...</td>\n",
       "      <td>...</td>\n",
       "    </tr>\n",
       "    <tr>\n",
       "      <th>165</th>\n",
       "      <td>0</td>\n",
       "      <td>0</td>\n",
       "      <td>0</td>\n",
       "      <td>0</td>\n",
       "      <td>0</td>\n",
       "      <td>0</td>\n",
       "      <td>0</td>\n",
       "      <td>0</td>\n",
       "      <td>0</td>\n",
       "      <td>0</td>\n",
       "      <td>...</td>\n",
       "      <td>1</td>\n",
       "      <td>0</td>\n",
       "      <td>4</td>\n",
       "      <td>1</td>\n",
       "      <td>1</td>\n",
       "      <td>4</td>\n",
       "      <td>2</td>\n",
       "      <td>2</td>\n",
       "      <td>2</td>\n",
       "      <td>0</td>\n",
       "    </tr>\n",
       "    <tr>\n",
       "      <th>166</th>\n",
       "      <td>0</td>\n",
       "      <td>0</td>\n",
       "      <td>0</td>\n",
       "      <td>0</td>\n",
       "      <td>0</td>\n",
       "      <td>0</td>\n",
       "      <td>0</td>\n",
       "      <td>0</td>\n",
       "      <td>0</td>\n",
       "      <td>0</td>\n",
       "      <td>...</td>\n",
       "      <td>4</td>\n",
       "      <td>1</td>\n",
       "      <td>2</td>\n",
       "      <td>2</td>\n",
       "      <td>2</td>\n",
       "      <td>2</td>\n",
       "      <td>3</td>\n",
       "      <td>2</td>\n",
       "      <td>2</td>\n",
       "      <td>0</td>\n",
       "    </tr>\n",
       "    <tr>\n",
       "      <th>167</th>\n",
       "      <td>1</td>\n",
       "      <td>1</td>\n",
       "      <td>0</td>\n",
       "      <td>0</td>\n",
       "      <td>0</td>\n",
       "      <td>0</td>\n",
       "      <td>0</td>\n",
       "      <td>0</td>\n",
       "      <td>0</td>\n",
       "      <td>1</td>\n",
       "      <td>...</td>\n",
       "      <td>3</td>\n",
       "      <td>0</td>\n",
       "      <td>2</td>\n",
       "      <td>0</td>\n",
       "      <td>1</td>\n",
       "      <td>1</td>\n",
       "      <td>3</td>\n",
       "      <td>0</td>\n",
       "      <td>0</td>\n",
       "      <td>0</td>\n",
       "    </tr>\n",
       "    <tr>\n",
       "      <th>168</th>\n",
       "      <td>0</td>\n",
       "      <td>0</td>\n",
       "      <td>0</td>\n",
       "      <td>0</td>\n",
       "      <td>0</td>\n",
       "      <td>0</td>\n",
       "      <td>0</td>\n",
       "      <td>0</td>\n",
       "      <td>0</td>\n",
       "      <td>0</td>\n",
       "      <td>...</td>\n",
       "      <td>3</td>\n",
       "      <td>3</td>\n",
       "      <td>2</td>\n",
       "      <td>2</td>\n",
       "      <td>3</td>\n",
       "      <td>2</td>\n",
       "      <td>4</td>\n",
       "      <td>3</td>\n",
       "      <td>1</td>\n",
       "      <td>0</td>\n",
       "    </tr>\n",
       "    <tr>\n",
       "      <th>169</th>\n",
       "      <td>0</td>\n",
       "      <td>0</td>\n",
       "      <td>0</td>\n",
       "      <td>0</td>\n",
       "      <td>0</td>\n",
       "      <td>0</td>\n",
       "      <td>0</td>\n",
       "      <td>1</td>\n",
       "      <td>0</td>\n",
       "      <td>0</td>\n",
       "      <td>...</td>\n",
       "      <td>3</td>\n",
       "      <td>4</td>\n",
       "      <td>4</td>\n",
       "      <td>0</td>\n",
       "      <td>1</td>\n",
       "      <td>3</td>\n",
       "      <td>3</td>\n",
       "      <td>3</td>\n",
       "      <td>1</td>\n",
       "      <td>0</td>\n",
       "    </tr>\n",
       "  </tbody>\n",
       "</table>\n",
       "<p>170 rows × 55 columns</p>\n",
       "</div>"
      ],
      "text/plain": [
       "     Atr1  Atr2  Atr3  Atr4  Atr5  Atr6  Atr7  Atr8  Atr9  Atr10  ...  Atr46  \\\n",
       "0       2     2     4     1     0     0     0     0     0      0  ...      2   \n",
       "1       4     4     4     4     4     0     0     4     4      4  ...      2   \n",
       "2       2     2     2     2     1     3     2     1     1      2  ...      3   \n",
       "3       3     2     3     2     3     3     3     3     3      3  ...      2   \n",
       "4       2     2     1     1     1     1     0     0     0      0  ...      2   \n",
       "..    ...   ...   ...   ...   ...   ...   ...   ...   ...    ...  ...    ...   \n",
       "165     0     0     0     0     0     0     0     0     0      0  ...      1   \n",
       "166     0     0     0     0     0     0     0     0     0      0  ...      4   \n",
       "167     1     1     0     0     0     0     0     0     0      1  ...      3   \n",
       "168     0     0     0     0     0     0     0     0     0      0  ...      3   \n",
       "169     0     0     0     0     0     0     0     1     0      0  ...      3   \n",
       "\n",
       "     Atr47  Atr48  Atr49  Atr50  Atr51  Atr52  Atr53  Atr54  Class  \n",
       "0        1      3      3      3      2      3      2      1      1  \n",
       "1        2      3      4      4      4      4      2      2      1  \n",
       "2        2      3      1      1      1      2      2      2      1  \n",
       "3        2      3      3      3      3      2      2      2      1  \n",
       "4        1      2      3      2      2      2      1      0      1  \n",
       "..     ...    ...    ...    ...    ...    ...    ...    ...    ...  \n",
       "165      0      4      1      1      4      2      2      2      0  \n",
       "166      1      2      2      2      2      3      2      2      0  \n",
       "167      0      2      0      1      1      3      0      0      0  \n",
       "168      3      2      2      3      2      4      3      1      0  \n",
       "169      4      4      0      1      3      3      3      1      0  \n",
       "\n",
       "[170 rows x 55 columns]"
      ]
     },
     "execution_count": 2,
     "metadata": {},
     "output_type": "execute_result"
    }
   ],
   "source": [
    "df = pd.read_excel('divorce.xlsx')\n",
    "df"
   ]
  },
  {
   "cell_type": "code",
   "execution_count": 3,
   "id": "42e69e9a",
   "metadata": {},
   "outputs": [
    {
     "data": {
      "text/plain": [
       "(170, 55)"
      ]
     },
     "execution_count": 3,
     "metadata": {},
     "output_type": "execute_result"
    }
   ],
   "source": [
    "df.shape"
   ]
  },
  {
   "cell_type": "code",
   "execution_count": 4,
   "id": "bd7fd572",
   "metadata": {},
   "outputs": [
    {
     "data": {
      "text/plain": [
       "Index(['Atr1', 'Atr2', 'Atr3', 'Atr4', 'Atr5', 'Atr6', 'Atr7', 'Atr8', 'Atr9',\n",
       "       'Atr10', 'Atr11', 'Atr12', 'Atr13', 'Atr14', 'Atr15', 'Atr16', 'Atr17',\n",
       "       'Atr18', 'Atr19', 'Atr20', 'Atr21', 'Atr22', 'Atr23', 'Atr24', 'Atr25',\n",
       "       'Atr26', 'Atr27', 'Atr28', 'Atr29', 'Atr30', 'Atr31', 'Atr32', 'Atr33',\n",
       "       'Atr34', 'Atr35', 'Atr36', 'Atr37', 'Atr38', 'Atr39', 'Atr40', 'Atr41',\n",
       "       'Atr42', 'Atr43', 'Atr44', 'Atr45', 'Atr46', 'Atr47', 'Atr48', 'Atr49',\n",
       "       'Atr50', 'Atr51', 'Atr52', 'Atr53', 'Atr54', 'Class'],\n",
       "      dtype='object')"
      ]
     },
     "execution_count": 4,
     "metadata": {},
     "output_type": "execute_result"
    }
   ],
   "source": [
    "df.columns"
   ]
  },
  {
   "cell_type": "code",
   "execution_count": 5,
   "id": "aa39052b",
   "metadata": {},
   "outputs": [
    {
     "data": {
      "text/plain": [
       "Atr1     0\n",
       "Atr2     0\n",
       "Atr3     0\n",
       "Atr4     0\n",
       "Atr5     0\n",
       "Atr6     0\n",
       "Atr7     0\n",
       "Atr8     0\n",
       "Atr9     0\n",
       "Atr10    0\n",
       "Atr11    0\n",
       "Atr12    0\n",
       "Atr13    0\n",
       "Atr14    0\n",
       "Atr15    0\n",
       "Atr16    0\n",
       "Atr17    0\n",
       "Atr18    0\n",
       "Atr19    0\n",
       "Atr20    0\n",
       "Atr21    0\n",
       "Atr22    0\n",
       "Atr23    0\n",
       "Atr24    0\n",
       "Atr25    0\n",
       "Atr26    0\n",
       "Atr27    0\n",
       "Atr28    0\n",
       "Atr29    0\n",
       "Atr30    0\n",
       "Atr31    0\n",
       "Atr32    0\n",
       "Atr33    0\n",
       "Atr34    0\n",
       "Atr35    0\n",
       "Atr36    0\n",
       "Atr37    0\n",
       "Atr38    0\n",
       "Atr39    0\n",
       "Atr40    0\n",
       "Atr41    0\n",
       "Atr42    0\n",
       "Atr43    0\n",
       "Atr44    0\n",
       "Atr45    0\n",
       "Atr46    0\n",
       "Atr47    0\n",
       "Atr48    0\n",
       "Atr49    0\n",
       "Atr50    0\n",
       "Atr51    0\n",
       "Atr52    0\n",
       "Atr53    0\n",
       "Atr54    0\n",
       "Class    0\n",
       "dtype: int64"
      ]
     },
     "execution_count": 5,
     "metadata": {},
     "output_type": "execute_result"
    }
   ],
   "source": [
    "df.isna().sum()# no nulls in dataset"
   ]
  },
  {
   "cell_type": "markdown",
   "id": "de9f0b0e",
   "metadata": {},
   "source": [
    "split data to 60-20-20 train, val, test"
   ]
  },
  {
   "cell_type": "code",
   "execution_count": 6,
   "id": "9848f9b7",
   "metadata": {},
   "outputs": [],
   "source": [
    "from sklearn.model_selection import train_test_split\n",
    "df_full_train, df_test = train_test_split(df, test_size=0.2, random_state=1)#they use random state 42#does this matter\n",
    "df_train, df_val = train_test_split(df_full_train, test_size=0.25, random_state=1)\n",
    "#print(df_train)\n",
    "\n",
    "df_train = df_train.reset_index(drop=True)\n",
    "df_val = df_val.reset_index(drop=True)\n",
    "df_test = df_test.reset_index(drop=True)\n",
    "\n",
    "y_train = df_train['Class'].values\n",
    "y_val = df_val['Class'].values\n",
    "y_test = df_test['Class'].values\n",
    "\n",
    "del df_train['Class']\n",
    "del df_val['Class']\n",
    "del df_test['Class']"
   ]
  },
  {
   "cell_type": "markdown",
   "id": "6cd427cd",
   "metadata": {},
   "source": [
    "DictVectorizer -> apply one-hot encoding to categorical features and get the feature matrix\n",
    "(turn train and validation into matrices)"
   ]
  },
  {
   "cell_type": "code",
   "execution_count": 7,
   "id": "68e10bcc",
   "metadata": {},
   "outputs": [],
   "source": [
    "features = ['Atr1', 'Atr2', 'Atr3', 'Atr4', 'Atr5', 'Atr6', 'Atr7', 'Atr8', 'Atr9',\n",
    "       'Atr10', 'Atr11', 'Atr12', 'Atr13', 'Atr14', 'Atr15', 'Atr16', 'Atr17',\n",
    "       'Atr18', 'Atr19', 'Atr20', 'Atr21', 'Atr22', 'Atr23', 'Atr24', 'Atr25',\n",
    "       'Atr26', 'Atr27', 'Atr28', 'Atr29', 'Atr30', 'Atr31', 'Atr32', 'Atr33',\n",
    "       'Atr34', 'Atr35', 'Atr36', 'Atr37', 'Atr38', 'Atr39', 'Atr40', 'Atr41',\n",
    "       'Atr42', 'Atr43', 'Atr44', 'Atr45', 'Atr46', 'Atr47', 'Atr48', 'Atr49',\n",
    "       'Atr50', 'Atr51', 'Atr52', 'Atr53', 'Atr54']"
   ]
  },
  {
   "cell_type": "code",
   "execution_count": 8,
   "id": "bbc7cb4f",
   "metadata": {},
   "outputs": [],
   "source": [
    "from sklearn.feature_extraction import DictVectorizer\n",
    "dv = DictVectorizer(sparse=False)\n",
    "\n",
    "train_dict = df_train[features].to_dict(orient='records')#don't exclude Class which is the response variable????\n",
    "X_train = dv.fit_transform(train_dict)\n",
    "\n",
    "val_dict = df_val[features].to_dict(orient='records')\n",
    "X_val = dv.transform(val_dict)"
   ]
  },
  {
   "cell_type": "code",
   "execution_count": 9,
   "id": "db1d3e01",
   "metadata": {},
   "outputs": [
    {
     "data": {
      "text/plain": [
       "(102, 54)"
      ]
     },
     "execution_count": 9,
     "metadata": {},
     "output_type": "execute_result"
    }
   ],
   "source": [
    "X_train.shape"
   ]
  },
  {
   "cell_type": "code",
   "execution_count": 10,
   "id": "c4314866",
   "metadata": {
    "scrolled": true
   },
   "outputs": [
    {
     "data": {
      "text/plain": [
       "(34, 54)"
      ]
     },
     "execution_count": 10,
     "metadata": {},
     "output_type": "execute_result"
    }
   ],
   "source": [
    "X_val.shape"
   ]
  },
  {
   "cell_type": "markdown",
   "id": "5e3369af",
   "metadata": {},
   "source": [
    "# Train a decision tree classifier to predict the Class variable"
   ]
  },
  {
   "cell_type": "code",
   "execution_count": 11,
   "id": "2dd7fa17",
   "metadata": {},
   "outputs": [],
   "source": [
    "from sklearn.tree import DecisionTreeClassifier\n",
    "from sklearn.ensemble import RandomForestClassifier\n",
    "from sklearn.metrics import roc_auc_score\n",
    "from sklearn.feature_extraction import DictVectorizer\n",
    "from sklearn.metrics import roc_auc_score\n",
    "from sklearn.tree import export_text\n",
    "from sklearn import metrics"
   ]
  },
  {
   "cell_type": "markdown",
   "id": "b589a3a7",
   "metadata": {},
   "source": [
    "# Fit the tree with default parameters"
   ]
  },
  {
   "cell_type": "code",
   "execution_count": 12,
   "id": "494e2faf",
   "metadata": {},
   "outputs": [
    {
     "data": {
      "text/plain": [
       "DecisionTreeClassifier()"
      ]
     },
     "execution_count": 12,
     "metadata": {},
     "output_type": "execute_result"
    }
   ],
   "source": [
    "dt = DecisionTreeClassifier()\n",
    "dt.fit(X_train, y_train)"
   ]
  },
  {
   "cell_type": "code",
   "execution_count": 13,
   "id": "1c332a19",
   "metadata": {},
   "outputs": [
    {
     "name": "stdout",
     "output_type": "stream",
     "text": [
      "|--- Atr18 <= 1.50\n",
      "|   |--- Atr3 <= 3.00\n",
      "|   |   |--- class: 0\n",
      "|   |--- Atr3 >  3.00\n",
      "|   |   |--- class: 1\n",
      "|--- Atr18 >  1.50\n",
      "|   |--- class: 1\n",
      "\n"
     ]
    }
   ],
   "source": [
    "print(export_text(dt, feature_names=dv.get_feature_names()))"
   ]
  },
  {
   "cell_type": "markdown",
   "id": "34d8f072",
   "metadata": {},
   "source": [
    "# Atr18 is used to split the data"
   ]
  },
  {
   "cell_type": "markdown",
   "id": "344d3867",
   "metadata": {},
   "source": [
    "Evaluating the quality of the model with AUC"
   ]
  },
  {
   "cell_type": "code",
   "execution_count": 14,
   "id": "f21b7bc6",
   "metadata": {},
   "outputs": [
    {
     "data": {
      "text/plain": [
       "1.0"
      ]
     },
     "execution_count": 14,
     "metadata": {},
     "output_type": "execute_result"
    }
   ],
   "source": [
    "y_pred = dt.predict_proba(X_train)[:, 1]\n",
    "roc_auc_score(y_train, y_pred)"
   ]
  },
  {
   "cell_type": "code",
   "execution_count": 15,
   "id": "fcbca5d2",
   "metadata": {},
   "outputs": [
    {
     "data": {
      "text/plain": [
       "0.9666666666666667"
      ]
     },
     "execution_count": 15,
     "metadata": {},
     "output_type": "execute_result"
    }
   ],
   "source": [
    "y_pred = dt.predict_proba(X_val)[:, 1]\n",
    "roc_auc_score(y_val, y_pred)"
   ]
  },
  {
   "cell_type": "code",
   "execution_count": 16,
   "id": "ad1f8979",
   "metadata": {},
   "outputs": [
    {
     "name": "stdout",
     "output_type": "stream",
     "text": [
      "train auc: 1.000\n",
      "val auc: 0.967\n"
     ]
    }
   ],
   "source": [
    "#dt2 = DecisionTreeClassifier(max_depth=2)\n",
    "#dt2.fit(X_train, y_train)\n",
    "\n",
    "y_pred = dt.predict_proba(X_train)[:, 1]\n",
    "auc = roc_auc_score(y_train, y_pred)\n",
    "print('train auc: %.3f' % auc)\n",
    "\n",
    "y_pred = dt.predict_proba(X_val)[:, 1]\n",
    "auc = roc_auc_score(y_val, y_pred)\n",
    "print('val auc: %.3f' % auc)"
   ]
  },
  {
   "cell_type": "markdown",
   "id": "db90b22e",
   "metadata": {},
   "source": [
    "Try diferent values of max_depth"
   ]
  },
  {
   "cell_type": "code",
   "execution_count": 17,
   "id": "3b8ac4f8",
   "metadata": {},
   "outputs": [],
   "source": [
    "scores = []\n",
    "\n",
    "\n",
    "for n in range(1, 200, 1):\n",
    "    dt2 = DecisionTreeClassifier(max_depth=n)\n",
    "    dt2.fit(X_train, y_train)\n",
    "\n",
    "    y_pred = dt.predict_proba(X_val)[:, 1]\n",
    "    auc = roc_auc_score(y_val, y_pred)\n",
    "\n",
    "    scores.append((n, auc))"
   ]
  },
  {
   "cell_type": "code",
   "execution_count": 18,
   "id": "65907da2",
   "metadata": {},
   "outputs": [
    {
     "data": {
      "text/plain": [
       "[(1, 0.9666666666666667),\n",
       " (2, 0.9666666666666667),\n",
       " (3, 0.9666666666666667),\n",
       " (4, 0.9666666666666667),\n",
       " (5, 0.9666666666666667),\n",
       " (6, 0.9666666666666667),\n",
       " (7, 0.9666666666666667),\n",
       " (8, 0.9666666666666667),\n",
       " (9, 0.9666666666666667),\n",
       " (10, 0.9666666666666667),\n",
       " (11, 0.9666666666666667),\n",
       " (12, 0.9666666666666667),\n",
       " (13, 0.9666666666666667),\n",
       " (14, 0.9666666666666667),\n",
       " (15, 0.9666666666666667),\n",
       " (16, 0.9666666666666667),\n",
       " (17, 0.9666666666666667),\n",
       " (18, 0.9666666666666667),\n",
       " (19, 0.9666666666666667),\n",
       " (20, 0.9666666666666667),\n",
       " (21, 0.9666666666666667),\n",
       " (22, 0.9666666666666667),\n",
       " (23, 0.9666666666666667),\n",
       " (24, 0.9666666666666667),\n",
       " (25, 0.9666666666666667),\n",
       " (26, 0.9666666666666667),\n",
       " (27, 0.9666666666666667),\n",
       " (28, 0.9666666666666667),\n",
       " (29, 0.9666666666666667),\n",
       " (30, 0.9666666666666667),\n",
       " (31, 0.9666666666666667),\n",
       " (32, 0.9666666666666667),\n",
       " (33, 0.9666666666666667),\n",
       " (34, 0.9666666666666667),\n",
       " (35, 0.9666666666666667),\n",
       " (36, 0.9666666666666667),\n",
       " (37, 0.9666666666666667),\n",
       " (38, 0.9666666666666667),\n",
       " (39, 0.9666666666666667),\n",
       " (40, 0.9666666666666667),\n",
       " (41, 0.9666666666666667),\n",
       " (42, 0.9666666666666667),\n",
       " (43, 0.9666666666666667),\n",
       " (44, 0.9666666666666667),\n",
       " (45, 0.9666666666666667),\n",
       " (46, 0.9666666666666667),\n",
       " (47, 0.9666666666666667),\n",
       " (48, 0.9666666666666667),\n",
       " (49, 0.9666666666666667),\n",
       " (50, 0.9666666666666667),\n",
       " (51, 0.9666666666666667),\n",
       " (52, 0.9666666666666667),\n",
       " (53, 0.9666666666666667),\n",
       " (54, 0.9666666666666667),\n",
       " (55, 0.9666666666666667),\n",
       " (56, 0.9666666666666667),\n",
       " (57, 0.9666666666666667),\n",
       " (58, 0.9666666666666667),\n",
       " (59, 0.9666666666666667),\n",
       " (60, 0.9666666666666667),\n",
       " (61, 0.9666666666666667),\n",
       " (62, 0.9666666666666667),\n",
       " (63, 0.9666666666666667),\n",
       " (64, 0.9666666666666667),\n",
       " (65, 0.9666666666666667),\n",
       " (66, 0.9666666666666667),\n",
       " (67, 0.9666666666666667),\n",
       " (68, 0.9666666666666667),\n",
       " (69, 0.9666666666666667),\n",
       " (70, 0.9666666666666667),\n",
       " (71, 0.9666666666666667),\n",
       " (72, 0.9666666666666667),\n",
       " (73, 0.9666666666666667),\n",
       " (74, 0.9666666666666667),\n",
       " (75, 0.9666666666666667),\n",
       " (76, 0.9666666666666667),\n",
       " (77, 0.9666666666666667),\n",
       " (78, 0.9666666666666667),\n",
       " (79, 0.9666666666666667),\n",
       " (80, 0.9666666666666667),\n",
       " (81, 0.9666666666666667),\n",
       " (82, 0.9666666666666667),\n",
       " (83, 0.9666666666666667),\n",
       " (84, 0.9666666666666667),\n",
       " (85, 0.9666666666666667),\n",
       " (86, 0.9666666666666667),\n",
       " (87, 0.9666666666666667),\n",
       " (88, 0.9666666666666667),\n",
       " (89, 0.9666666666666667),\n",
       " (90, 0.9666666666666667),\n",
       " (91, 0.9666666666666667),\n",
       " (92, 0.9666666666666667),\n",
       " (93, 0.9666666666666667),\n",
       " (94, 0.9666666666666667),\n",
       " (95, 0.9666666666666667),\n",
       " (96, 0.9666666666666667),\n",
       " (97, 0.9666666666666667),\n",
       " (98, 0.9666666666666667),\n",
       " (99, 0.9666666666666667),\n",
       " (100, 0.9666666666666667),\n",
       " (101, 0.9666666666666667),\n",
       " (102, 0.9666666666666667),\n",
       " (103, 0.9666666666666667),\n",
       " (104, 0.9666666666666667),\n",
       " (105, 0.9666666666666667),\n",
       " (106, 0.9666666666666667),\n",
       " (107, 0.9666666666666667),\n",
       " (108, 0.9666666666666667),\n",
       " (109, 0.9666666666666667),\n",
       " (110, 0.9666666666666667),\n",
       " (111, 0.9666666666666667),\n",
       " (112, 0.9666666666666667),\n",
       " (113, 0.9666666666666667),\n",
       " (114, 0.9666666666666667),\n",
       " (115, 0.9666666666666667),\n",
       " (116, 0.9666666666666667),\n",
       " (117, 0.9666666666666667),\n",
       " (118, 0.9666666666666667),\n",
       " (119, 0.9666666666666667),\n",
       " (120, 0.9666666666666667),\n",
       " (121, 0.9666666666666667),\n",
       " (122, 0.9666666666666667),\n",
       " (123, 0.9666666666666667),\n",
       " (124, 0.9666666666666667),\n",
       " (125, 0.9666666666666667),\n",
       " (126, 0.9666666666666667),\n",
       " (127, 0.9666666666666667),\n",
       " (128, 0.9666666666666667),\n",
       " (129, 0.9666666666666667),\n",
       " (130, 0.9666666666666667),\n",
       " (131, 0.9666666666666667),\n",
       " (132, 0.9666666666666667),\n",
       " (133, 0.9666666666666667),\n",
       " (134, 0.9666666666666667),\n",
       " (135, 0.9666666666666667),\n",
       " (136, 0.9666666666666667),\n",
       " (137, 0.9666666666666667),\n",
       " (138, 0.9666666666666667),\n",
       " (139, 0.9666666666666667),\n",
       " (140, 0.9666666666666667),\n",
       " (141, 0.9666666666666667),\n",
       " (142, 0.9666666666666667),\n",
       " (143, 0.9666666666666667),\n",
       " (144, 0.9666666666666667),\n",
       " (145, 0.9666666666666667),\n",
       " (146, 0.9666666666666667),\n",
       " (147, 0.9666666666666667),\n",
       " (148, 0.9666666666666667),\n",
       " (149, 0.9666666666666667),\n",
       " (150, 0.9666666666666667),\n",
       " (151, 0.9666666666666667),\n",
       " (152, 0.9666666666666667),\n",
       " (153, 0.9666666666666667),\n",
       " (154, 0.9666666666666667),\n",
       " (155, 0.9666666666666667),\n",
       " (156, 0.9666666666666667),\n",
       " (157, 0.9666666666666667),\n",
       " (158, 0.9666666666666667),\n",
       " (159, 0.9666666666666667),\n",
       " (160, 0.9666666666666667),\n",
       " (161, 0.9666666666666667),\n",
       " (162, 0.9666666666666667),\n",
       " (163, 0.9666666666666667),\n",
       " (164, 0.9666666666666667),\n",
       " (165, 0.9666666666666667),\n",
       " (166, 0.9666666666666667),\n",
       " (167, 0.9666666666666667),\n",
       " (168, 0.9666666666666667),\n",
       " (169, 0.9666666666666667),\n",
       " (170, 0.9666666666666667),\n",
       " (171, 0.9666666666666667),\n",
       " (172, 0.9666666666666667),\n",
       " (173, 0.9666666666666667),\n",
       " (174, 0.9666666666666667),\n",
       " (175, 0.9666666666666667),\n",
       " (176, 0.9666666666666667),\n",
       " (177, 0.9666666666666667),\n",
       " (178, 0.9666666666666667),\n",
       " (179, 0.9666666666666667),\n",
       " (180, 0.9666666666666667),\n",
       " (181, 0.9666666666666667),\n",
       " (182, 0.9666666666666667),\n",
       " (183, 0.9666666666666667),\n",
       " (184, 0.9666666666666667),\n",
       " (185, 0.9666666666666667),\n",
       " (186, 0.9666666666666667),\n",
       " (187, 0.9666666666666667),\n",
       " (188, 0.9666666666666667),\n",
       " (189, 0.9666666666666667),\n",
       " (190, 0.9666666666666667),\n",
       " (191, 0.9666666666666667),\n",
       " (192, 0.9666666666666667),\n",
       " (193, 0.9666666666666667),\n",
       " (194, 0.9666666666666667),\n",
       " (195, 0.9666666666666667),\n",
       " (196, 0.9666666666666667),\n",
       " (197, 0.9666666666666667),\n",
       " (198, 0.9666666666666667),\n",
       " (199, 0.9666666666666667)]"
      ]
     },
     "execution_count": 18,
     "metadata": {},
     "output_type": "execute_result"
    }
   ],
   "source": [
    "scores"
   ]
  },
  {
   "cell_type": "code",
   "execution_count": 19,
   "id": "75765b54",
   "metadata": {},
   "outputs": [
    {
     "data": {
      "text/plain": [
       "[<matplotlib.lines.Line2D at 0x1a138542be0>]"
      ]
     },
     "execution_count": 19,
     "metadata": {},
     "output_type": "execute_result"
    },
    {
     "data": {
      "image/png": "[encoded data removed]",
      "text/plain": [
       "<Figure size 432x288 with 1 Axes>"
      ]
     },
     "metadata": {
      "needs_background": "light"
     },
     "output_type": "display_data"
    }
   ],
   "source": [
    "df_scores = pd.DataFrame(scores, columns = ['max_depth','auc'])\n",
    "plt.plot(df_scores['max_depth'],df_scores['auc'])"
   ]
  },
  {
   "cell_type": "code",
   "execution_count": null,
   "id": "b4e60d2a",
   "metadata": {},
   "outputs": [],
   "source": []
  },
  {
   "cell_type": "markdown",
   "id": "ed0e568e",
   "metadata": {},
   "source": [
    "The AUC is high acros all values of max_depth for a single tree.\n",
    "Train a random forest and see if we can increase the AUC"
   ]
  },
  {
   "cell_type": "markdown",
   "id": "3bf5d6c7",
   "metadata": {},
   "source": [
    "try different values of max_depth and n_estimators"
   ]
  },
  {
   "cell_type": "code",
   "execution_count": 20,
   "id": "e5f41624",
   "metadata": {},
   "outputs": [
    {
     "data": {
      "application/vnd.jupyter.widget-view+json": {
       "model_id": "19c0612741e648c3b8ed472949f7c831",
       "version_major": 2,
       "version_minor": 0
      },
      "text/plain": [
       "  0%|          | 0/4 [00:00<?, ?it/s]"
      ]
     },
     "metadata": {},
     "output_type": "display_data"
    },
    {
     "data": {
      "application/vnd.jupyter.widget-view+json": {
       "model_id": "5d827b11aa254abb9bc3631809c2c014",
       "version_major": 2,
       "version_minor": 0
      },
      "text/plain": [
       "  0%|          | 0/20 [00:00<?, ?it/s]"
      ]
     },
     "metadata": {},
     "output_type": "display_data"
    },
    {
     "data": {
      "application/vnd.jupyter.widget-view+json": {
       "model_id": "fa824416b8264320ab26c96c2cea1c42",
       "version_major": 2,
       "version_minor": 0
      },
      "text/plain": [
       "  0%|          | 0/20 [00:00<?, ?it/s]"
      ]
     },
     "metadata": {},
     "output_type": "display_data"
    },
    {
     "data": {
      "application/vnd.jupyter.widget-view+json": {
       "model_id": "f51fba2957d04bd4872cd97500fcdfdc",
       "version_major": 2,
       "version_minor": 0
      },
      "text/plain": [
       "  0%|          | 0/20 [00:00<?, ?it/s]"
      ]
     },
     "metadata": {},
     "output_type": "display_data"
    },
    {
     "data": {
      "application/vnd.jupyter.widget-view+json": {
       "model_id": "50e34ff6c1634ee49644c926b12ba116",
       "version_major": 2,
       "version_minor": 0
      },
      "text/plain": [
       "  0%|          | 0/20 [00:00<?, ?it/s]"
      ]
     },
     "metadata": {},
     "output_type": "display_data"
    }
   ],
   "source": [
    "from tqdm.auto import tqdm\n",
    "scores = []\n",
    "\n",
    "for d in tqdm([10, 15, 20, 25]):\n",
    "    rf = RandomForestClassifier(n_estimators=0,max_depth = d, random_state=1,n_jobs=-1,warm_start = True)\n",
    "    \n",
    "    for n in tqdm (range(10, 201, 10)):\n",
    "        rf.n_estimators=n\n",
    "        rf.fit(X_train, y_train)\n",
    "\n",
    "        y_pred = rf.predict(X_val)\n",
    "        auc = roc_auc_score(y_val, y_pred)\n",
    "        #rmse = np.sqrt(metrics.mean_squared_error(y_val, y_pred))\n",
    "\n",
    "        scores.append((d, n, auc))"
   ]
  },
  {
   "cell_type": "code",
   "execution_count": 21,
   "id": "508d8e50",
   "metadata": {},
   "outputs": [
    {
     "data": {
      "text/html": [
       "<div>\n",
       "<style scoped>\n",
       "    .dataframe tbody tr th:only-of-type {\n",
       "        vertical-align: middle;\n",
       "    }\n",
       "\n",
       "    .dataframe tbody tr th {\n",
       "        vertical-align: top;\n",
       "    }\n",
       "\n",
       "    .dataframe thead th {\n",
       "        text-align: right;\n",
       "    }\n",
       "</style>\n",
       "<table border=\"1\" class=\"dataframe\">\n",
       "  <thead>\n",
       "    <tr style=\"text-align: right;\">\n",
       "      <th></th>\n",
       "      <th>max_depth</th>\n",
       "      <th>n_estimators</th>\n",
       "      <th>auc</th>\n",
       "    </tr>\n",
       "  </thead>\n",
       "  <tbody>\n",
       "    <tr>\n",
       "      <th>0</th>\n",
       "      <td>10</td>\n",
       "      <td>10</td>\n",
       "      <td>1.0</td>\n",
       "    </tr>\n",
       "    <tr>\n",
       "      <th>1</th>\n",
       "      <td>10</td>\n",
       "      <td>20</td>\n",
       "      <td>1.0</td>\n",
       "    </tr>\n",
       "    <tr>\n",
       "      <th>2</th>\n",
       "      <td>10</td>\n",
       "      <td>30</td>\n",
       "      <td>1.0</td>\n",
       "    </tr>\n",
       "    <tr>\n",
       "      <th>3</th>\n",
       "      <td>10</td>\n",
       "      <td>40</td>\n",
       "      <td>1.0</td>\n",
       "    </tr>\n",
       "    <tr>\n",
       "      <th>4</th>\n",
       "      <td>10</td>\n",
       "      <td>50</td>\n",
       "      <td>1.0</td>\n",
       "    </tr>\n",
       "    <tr>\n",
       "      <th>...</th>\n",
       "      <td>...</td>\n",
       "      <td>...</td>\n",
       "      <td>...</td>\n",
       "    </tr>\n",
       "    <tr>\n",
       "      <th>75</th>\n",
       "      <td>25</td>\n",
       "      <td>160</td>\n",
       "      <td>1.0</td>\n",
       "    </tr>\n",
       "    <tr>\n",
       "      <th>76</th>\n",
       "      <td>25</td>\n",
       "      <td>170</td>\n",
       "      <td>1.0</td>\n",
       "    </tr>\n",
       "    <tr>\n",
       "      <th>77</th>\n",
       "      <td>25</td>\n",
       "      <td>180</td>\n",
       "      <td>1.0</td>\n",
       "    </tr>\n",
       "    <tr>\n",
       "      <th>78</th>\n",
       "      <td>25</td>\n",
       "      <td>190</td>\n",
       "      <td>1.0</td>\n",
       "    </tr>\n",
       "    <tr>\n",
       "      <th>79</th>\n",
       "      <td>25</td>\n",
       "      <td>200</td>\n",
       "      <td>1.0</td>\n",
       "    </tr>\n",
       "  </tbody>\n",
       "</table>\n",
       "<p>80 rows × 3 columns</p>\n",
       "</div>"
      ],
      "text/plain": [
       "    max_depth  n_estimators  auc\n",
       "0          10            10  1.0\n",
       "1          10            20  1.0\n",
       "2          10            30  1.0\n",
       "3          10            40  1.0\n",
       "4          10            50  1.0\n",
       "..        ...           ...  ...\n",
       "75         25           160  1.0\n",
       "76         25           170  1.0\n",
       "77         25           180  1.0\n",
       "78         25           190  1.0\n",
       "79         25           200  1.0\n",
       "\n",
       "[80 rows x 3 columns]"
      ]
     },
     "execution_count": 21,
     "metadata": {},
     "output_type": "execute_result"
    }
   ],
   "source": [
    "columns = ['max_depth','n_estimators','auc']\n",
    "df_scores = pd.DataFrame(scores, columns = columns)\n",
    "df_scores"
   ]
  },
  {
   "cell_type": "code",
   "execution_count": 22,
   "id": "9e49e3bd",
   "metadata": {},
   "outputs": [
    {
     "data": {
      "text/plain": [
       "<matplotlib.legend.Legend at 0x1a1384e34f0>"
      ]
     },
     "execution_count": 22,
     "metadata": {},
     "output_type": "execute_result"
    },
    {
     "data": {
      "image/png": "[encoded data removed]",
      "text/plain": [
       "<Figure size 432x288 with 1 Axes>"
      ]
     },
     "metadata": {
      "needs_background": "light"
     },
     "output_type": "display_data"
    }
   ],
   "source": [
    "for d in [10, 15, 20, 25]:\n",
    "    df_subset = df_scores[df_scores['max_depth'] == d]\n",
    "    plt.plot( df_subset['n_estimators'], df_subset['auc'], label = d)\n",
    "plt.legend()"
   ]
  },
  {
   "cell_type": "markdown",
   "id": "7158a10a",
   "metadata": {},
   "source": [
    "# All combinations of max_depth and n_estimators = AUC 1"
   ]
  },
  {
   "cell_type": "code",
   "execution_count": 23,
   "id": "88a536c4",
   "metadata": {},
   "outputs": [
    {
     "data": {
      "application/vnd.jupyter.widget-view+json": {
       "model_id": "5a34087582974e158ffdf4b3a5bbeeab",
       "version_major": 2,
       "version_minor": 0
      },
      "text/plain": [
       "  0%|          | 0/4 [00:00<?, ?it/s]"
      ]
     },
     "metadata": {},
     "output_type": "display_data"
    },
    {
     "data": {
      "application/vnd.jupyter.widget-view+json": {
       "model_id": "5829e6daa5ee40b3b3145388cca9590e",
       "version_major": 2,
       "version_minor": 0
      },
      "text/plain": [
       "  0%|          | 0/20 [00:00<?, ?it/s]"
      ]
     },
     "metadata": {},
     "output_type": "display_data"
    },
    {
     "data": {
      "application/vnd.jupyter.widget-view+json": {
       "model_id": "37c7766ce0814401a133a214b78c08ee",
       "version_major": 2,
       "version_minor": 0
      },
      "text/plain": [
       "  0%|          | 0/20 [00:00<?, ?it/s]"
      ]
     },
     "metadata": {},
     "output_type": "display_data"
    },
    {
     "data": {
      "application/vnd.jupyter.widget-view+json": {
       "model_id": "699e3195161d453c8119257b7db98e62",
       "version_major": 2,
       "version_minor": 0
      },
      "text/plain": [
       "  0%|          | 0/20 [00:00<?, ?it/s]"
      ]
     },
     "metadata": {},
     "output_type": "display_data"
    },
    {
     "data": {
      "application/vnd.jupyter.widget-view+json": {
       "model_id": "829e2a2b27134cf791ed18f5ebb1ad8d",
       "version_major": 2,
       "version_minor": 0
      },
      "text/plain": [
       "  0%|          | 0/20 [00:00<?, ?it/s]"
      ]
     },
     "metadata": {},
     "output_type": "display_data"
    }
   ],
   "source": [
    "from tqdm.auto import tqdm\n",
    "scores = []\n",
    "\n",
    "for d in tqdm([10, 15, 20, 25]):\n",
    "    rf = RandomForestClassifier(n_estimators=0,max_depth = d, random_state=420,n_jobs=-1,warm_start = True)\n",
    "    \n",
    "    for n in tqdm (range(10, 201, 10)):\n",
    "        rf.n_estimators=n\n",
    "        rf.fit(X_train, y_train)\n",
    "\n",
    "        y_pred = rf.predict(X_val)\n",
    "        auc = roc_auc_score(y_val, y_pred)\n",
    "        \n",
    "        #rmse = np.sqrt(metrics.mean_squared_error(y_val, y_pred))\n",
    "\n",
    "        scores.append((d, n, auc))"
   ]
  },
  {
   "cell_type": "code",
   "execution_count": 24,
   "id": "b3317c48",
   "metadata": {},
   "outputs": [
    {
     "data": {
      "text/html": [
       "<div>\n",
       "<style scoped>\n",
       "    .dataframe tbody tr th:only-of-type {\n",
       "        vertical-align: middle;\n",
       "    }\n",
       "\n",
       "    .dataframe tbody tr th {\n",
       "        vertical-align: top;\n",
       "    }\n",
       "\n",
       "    .dataframe thead th {\n",
       "        text-align: right;\n",
       "    }\n",
       "</style>\n",
       "<table border=\"1\" class=\"dataframe\">\n",
       "  <thead>\n",
       "    <tr style=\"text-align: right;\">\n",
       "      <th></th>\n",
       "      <th>max_depth</th>\n",
       "      <th>n_estimators</th>\n",
       "      <th>auc</th>\n",
       "    </tr>\n",
       "  </thead>\n",
       "  <tbody>\n",
       "    <tr>\n",
       "      <th>0</th>\n",
       "      <td>10</td>\n",
       "      <td>10</td>\n",
       "      <td>1.0</td>\n",
       "    </tr>\n",
       "    <tr>\n",
       "      <th>1</th>\n",
       "      <td>10</td>\n",
       "      <td>20</td>\n",
       "      <td>1.0</td>\n",
       "    </tr>\n",
       "    <tr>\n",
       "      <th>2</th>\n",
       "      <td>10</td>\n",
       "      <td>30</td>\n",
       "      <td>1.0</td>\n",
       "    </tr>\n",
       "    <tr>\n",
       "      <th>3</th>\n",
       "      <td>10</td>\n",
       "      <td>40</td>\n",
       "      <td>1.0</td>\n",
       "    </tr>\n",
       "    <tr>\n",
       "      <th>4</th>\n",
       "      <td>10</td>\n",
       "      <td>50</td>\n",
       "      <td>1.0</td>\n",
       "    </tr>\n",
       "    <tr>\n",
       "      <th>...</th>\n",
       "      <td>...</td>\n",
       "      <td>...</td>\n",
       "      <td>...</td>\n",
       "    </tr>\n",
       "    <tr>\n",
       "      <th>75</th>\n",
       "      <td>25</td>\n",
       "      <td>160</td>\n",
       "      <td>1.0</td>\n",
       "    </tr>\n",
       "    <tr>\n",
       "      <th>76</th>\n",
       "      <td>25</td>\n",
       "      <td>170</td>\n",
       "      <td>1.0</td>\n",
       "    </tr>\n",
       "    <tr>\n",
       "      <th>77</th>\n",
       "      <td>25</td>\n",
       "      <td>180</td>\n",
       "      <td>1.0</td>\n",
       "    </tr>\n",
       "    <tr>\n",
       "      <th>78</th>\n",
       "      <td>25</td>\n",
       "      <td>190</td>\n",
       "      <td>1.0</td>\n",
       "    </tr>\n",
       "    <tr>\n",
       "      <th>79</th>\n",
       "      <td>25</td>\n",
       "      <td>200</td>\n",
       "      <td>1.0</td>\n",
       "    </tr>\n",
       "  </tbody>\n",
       "</table>\n",
       "<p>80 rows × 3 columns</p>\n",
       "</div>"
      ],
      "text/plain": [
       "    max_depth  n_estimators  auc\n",
       "0          10            10  1.0\n",
       "1          10            20  1.0\n",
       "2          10            30  1.0\n",
       "3          10            40  1.0\n",
       "4          10            50  1.0\n",
       "..        ...           ...  ...\n",
       "75         25           160  1.0\n",
       "76         25           170  1.0\n",
       "77         25           180  1.0\n",
       "78         25           190  1.0\n",
       "79         25           200  1.0\n",
       "\n",
       "[80 rows x 3 columns]"
      ]
     },
     "execution_count": 24,
     "metadata": {},
     "output_type": "execute_result"
    }
   ],
   "source": [
    "columns = ['max_depth','n_estimators','auc']\n",
    "df_scores = pd.DataFrame(scores, columns = columns)\n",
    "df_scores"
   ]
  },
  {
   "cell_type": "code",
   "execution_count": 25,
   "id": "6b9b661d",
   "metadata": {},
   "outputs": [
    {
     "data": {
      "text/plain": [
       "<matplotlib.legend.Legend at 0x1a13875f9d0>"
      ]
     },
     "execution_count": 25,
     "metadata": {},
     "output_type": "execute_result"
    },
    {
     "data": {
      "image/png": "[encoded data removed]",
      "text/plain": [
       "<Figure size 432x288 with 1 Axes>"
      ]
     },
     "metadata": {
      "needs_background": "light"
     },
     "output_type": "display_data"
    }
   ],
   "source": [
    "for d in [10, 15, 20, 25]:\n",
    "    df_subset = df_scores[df_scores['max_depth'] == d]\n",
    "    plt.plot( df_subset['n_estimators'], df_subset['auc'], label = d)\n",
    "plt.legend()"
   ]
  },
  {
   "cell_type": "markdown",
   "id": "93f7396a",
   "metadata": {},
   "source": [
    "# Final Model"
   ]
  },
  {
   "cell_type": "code",
   "execution_count": 26,
   "id": "fe9c25ea",
   "metadata": {},
   "outputs": [
    {
     "data": {
      "text/plain": [
       "RandomForestClassifier(max_depth=10, n_estimators=10, n_jobs=-1, random_state=1)"
      ]
     },
     "execution_count": 26,
     "metadata": {},
     "output_type": "execute_result"
    }
   ],
   "source": [
    "rf = RandomForestClassifier(n_estimators=10,\n",
    "max_depth=10,\n",
    "random_state=1,\n",
    "n_jobs=-1)\n",
    "rf.fit(X_train, y_train)"
   ]
  },
  {
   "cell_type": "markdown",
   "id": "afc4aea2",
   "metadata": {},
   "source": [
    "# Feature importance analysis"
   ]
  },
  {
   "cell_type": "code",
   "execution_count": 27,
   "id": "cddb75a3",
   "metadata": {},
   "outputs": [
    {
     "data": {
      "text/plain": [
       "array([0.00387164, 0.        , 0.11023488, 0.07835951, 0.        ,\n",
       "       0.        , 0.        , 0.00382387, 0.        , 0.00125577,\n",
       "       0.00389128, 0.00385648, 0.18822365, 0.00764618, 0.        ,\n",
       "       0.        , 0.        , 0.        , 0.        , 0.        ,\n",
       "       0.01626104, 0.00057544, 0.        , 0.        , 0.        ,\n",
       "       0.        , 0.        , 0.00984807, 0.        , 0.16037705,\n",
       "       0.        , 0.        , 0.        , 0.00265107, 0.30789614,\n",
       "       0.        , 0.        , 0.        , 0.00202381, 0.        ,\n",
       "       0.        , 0.        , 0.        , 0.00582624, 0.        ,\n",
       "       0.        , 0.        , 0.00060469, 0.0005744 , 0.00335041,\n",
       "       0.        , 0.        , 0.        , 0.0888484 ])"
      ]
     },
     "execution_count": 27,
     "metadata": {},
     "output_type": "execute_result"
    }
   ],
   "source": [
    "rf.feature_importances_"
   ]
  },
  {
   "cell_type": "markdown",
   "id": "7a693023",
   "metadata": {},
   "source": [
    "# The 5 most important features for determining divorce or no divorce"
   ]
  },
  {
   "cell_type": "code",
   "execution_count": 28,
   "id": "c48c4241",
   "metadata": {},
   "outputs": [
    {
     "data": {
      "text/html": [
       "<div>\n",
       "<style scoped>\n",
       "    .dataframe tbody tr th:only-of-type {\n",
       "        vertical-align: middle;\n",
       "    }\n",
       "\n",
       "    .dataframe tbody tr th {\n",
       "        vertical-align: top;\n",
       "    }\n",
       "\n",
       "    .dataframe thead th {\n",
       "        text-align: right;\n",
       "    }\n",
       "</style>\n",
       "<table border=\"1\" class=\"dataframe\">\n",
       "  <thead>\n",
       "    <tr style=\"text-align: right;\">\n",
       "      <th></th>\n",
       "      <th>feature</th>\n",
       "      <th>importance</th>\n",
       "    </tr>\n",
       "  </thead>\n",
       "  <tbody>\n",
       "    <tr>\n",
       "      <th>34</th>\n",
       "      <td>Atr40</td>\n",
       "      <td>0.307896</td>\n",
       "    </tr>\n",
       "    <tr>\n",
       "      <th>12</th>\n",
       "      <td>Atr20</td>\n",
       "      <td>0.188224</td>\n",
       "    </tr>\n",
       "    <tr>\n",
       "      <th>29</th>\n",
       "      <td>Atr36</td>\n",
       "      <td>0.160377</td>\n",
       "    </tr>\n",
       "    <tr>\n",
       "      <th>2</th>\n",
       "      <td>Atr11</td>\n",
       "      <td>0.110235</td>\n",
       "    </tr>\n",
       "    <tr>\n",
       "      <th>53</th>\n",
       "      <td>Atr9</td>\n",
       "      <td>0.088848</td>\n",
       "    </tr>\n",
       "  </tbody>\n",
       "</table>\n",
       "</div>"
      ],
      "text/plain": [
       "   feature  importance\n",
       "34   Atr40    0.307896\n",
       "12   Atr20    0.188224\n",
       "29   Atr36    0.160377\n",
       "2    Atr11    0.110235\n",
       "53    Atr9    0.088848"
      ]
     },
     "execution_count": 28,
     "metadata": {},
     "output_type": "execute_result"
    }
   ],
   "source": [
    "df_importance = pd.DataFrame()\n",
    "df_importance['feature'] = dv.get_feature_names()\n",
    "df_importance['importance'] = rf.feature_importances_\n",
    "df_importance.sort_values(by = 'importance', ascending = False).head()"
   ]
  },
  {
   "cell_type": "raw",
   "id": "ba4f9c8e",
   "metadata": {},
   "source": [
    "40. We're just starting a discussion before I know what's going on.\n",
    "20. My spouse and I have similar values in trust.\n",
    "36. I can be humiliating when we discussions.\n",
    "11. I think that one day in the future, when I look back, I see that my spouse and I have been in harmony with each other.\n",
    "9. I enjoy traveling with my wife."
   ]
  },
  {
   "cell_type": "code",
   "execution_count": null,
   "id": "84ea2067",
   "metadata": {},
   "outputs": [],
   "source": []
  }
 ],
 "metadata": {
  "kernelspec": {
   "display_name": "Python 3 (ipykernel)",
   "language": "python",
   "name": "python3"
  },
  "language_info": {
   "codemirror_mode": {
    "name": "ipython",
    "version": 3
   },
   "file_extension": ".py",
   "mimetype": "text/x-python",
   "name": "python",
   "nbconvert_exporter": "python",
   "pygments_lexer": "ipython3",
   "version": "3.9.5"
  }
 },
 "nbformat": 4,
 "nbformat_minor": 5
}
